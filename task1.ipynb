{
 "cells": [
  {
   "cell_type": "code",
   "execution_count": 73,
   "metadata": {},
   "outputs": [],
   "source": [
    "import numpy as np\n",
    "import pandas as pd\n",
    "from sklearn.model_selection import train_test_split\n",
    "from sklearn.linear_model import LinearRegression\n",
    "import statsmodels.api as sm\n",
    "import matplotlib.pyplot as plt\n",
    "from scipy import stats"
   ]
  },
  {
   "cell_type": "code",
   "execution_count": 74,
   "metadata": {},
   "outputs": [
    {
     "name": "stdout",
     "output_type": "stream",
     "text": [
      "(24, 3)\n",
      "(24,)\n"
     ]
    },
    {
     "name": "stderr",
     "output_type": "stream",
     "text": [
      "/tmp/ipykernel_13832/3156339589.py:4: SettingWithCopyWarning: \n",
      "A value is trying to be set on a copy of a slice from a DataFrame.\n",
      "Try using .loc[row_indexer,col_indexer] = value instead\n",
      "\n",
      "See the caveats in the documentation: https://pandas.pydata.org/pandas-docs/stable/user_guide/indexing.html#returning-a-view-versus-a-copy\n",
      "  datax[\"MPG.city\"] = (datax[\"MPG.city\"] - datax[\"MPG.city\"].min()) / (datax[\"MPG.city\"].max() - datax[\"MPG.city\"].min())\n",
      "/tmp/ipykernel_13832/3156339589.py:5: SettingWithCopyWarning: \n",
      "A value is trying to be set on a copy of a slice from a DataFrame.\n",
      "Try using .loc[row_indexer,col_indexer] = value instead\n",
      "\n",
      "See the caveats in the documentation: https://pandas.pydata.org/pandas-docs/stable/user_guide/indexing.html#returning-a-view-versus-a-copy\n",
      "  datax[\"MPG.highway\"] = (datax[\"MPG.highway\"] - datax[\"MPG.highway\"].min()) / (datax[\"MPG.highway\"].max() - datax[\"MPG.highway\"].min())\n",
      "/tmp/ipykernel_13832/3156339589.py:6: SettingWithCopyWarning: \n",
      "A value is trying to be set on a copy of a slice from a DataFrame.\n",
      "Try using .loc[row_indexer,col_indexer] = value instead\n",
      "\n",
      "See the caveats in the documentation: https://pandas.pydata.org/pandas-docs/stable/user_guide/indexing.html#returning-a-view-versus-a-copy\n",
      "  datax[\"Horsepower\"] = (datax[\"Horsepower\"] - datax[\"Horsepower\"].min()) / (datax[\"Horsepower\"].max() - datax[\"Horsepower\"].min())\n"
     ]
    }
   ],
   "source": [
    "data = pd.read_csv(\"cars93.csv\")\n",
    "\n",
    "datax = data[[\"MPG.city\", \"MPG.highway\", \"Horsepower\"]]\n",
    "datax[\"MPG.city\"] = (datax[\"MPG.city\"] - datax[\"MPG.city\"].min()) / (datax[\"MPG.city\"].max() - datax[\"MPG.city\"].min())\n",
    "datax[\"MPG.highway\"] = (datax[\"MPG.highway\"] - datax[\"MPG.highway\"].min()) / (datax[\"MPG.highway\"].max() - datax[\"MPG.highway\"].min())\n",
    "datax[\"Horsepower\"] = (datax[\"Horsepower\"] - datax[\"Horsepower\"].min()) / (datax[\"Horsepower\"].max() - datax[\"Horsepower\"].min())\n",
    "datax = datax.to_numpy()\n",
    "datay = data[\"Price\"].to_numpy()\n",
    "x_train, x_test, y_train, y_test = train_test_split(datax, datay, random_state=1488, test_size=0.25)\n",
    "\n",
    "print(x_test.shape)\n",
    "print(y_test.shape)"
   ]
  },
  {
   "cell_type": "code",
   "execution_count": 75,
   "metadata": {},
   "outputs": [],
   "source": [
    "def predict(x, weights, b):\n",
    "    return np.dot(x, weights)+b\n",
    "\n",
    "def do_linear_regression(x_train, y_train):\n",
    "    b = np.random.rand()\n",
    "    weights = np.array([np.random.rand() for i in range(x_train.shape[1])])\n",
    "    for _ in range(25):\n",
    "        for i in range (x_train.shape[0]):\n",
    "            pred = predict(x_train[i], weights, b)\n",
    "            loss =(pred - y_train[i])**2\n",
    "            \n",
    "            dw = 2 * x_train[i] * (pred - y_train[i])\n",
    "            db = 2 * (pred - y_train[i])\n",
    "            \n",
    "            weights -= 0.01 * dw\n",
    "            b -= 0.01 * db\n",
    "        print(loss)\n",
    "    return b, weights"
   ]
  },
  {
   "cell_type": "code",
   "execution_count": 76,
   "metadata": {},
   "outputs": [
    {
     "name": "stdout",
     "output_type": "stream",
     "text": [
      "46.35640325796516\n",
      "73.38552525285559\n",
      "67.39512572172238\n",
      "57.55452550559082\n",
      "48.86297803559553\n",
      "41.72617940800743\n",
      "35.917353876708034\n",
      "31.177717990259712\n",
      "27.292604233831185\n",
      "24.09182033414428\n",
      "21.44119712186034\n",
      "19.234776689689664\n",
      "17.3886009110233\n",
      "15.835892516267275\n",
      "14.523328331673323\n",
      "13.408153976804156\n",
      "12.455945344982707\n",
      "11.63886761922544\n",
      "10.934317602615065\n",
      "10.323861902097974\n",
      "9.792403922859972\n",
      "9.327528215031053\n",
      "8.918982618596148\n",
      "8.558267753448561\n",
      "8.238310366684287\n"
     ]
    }
   ],
   "source": [
    "bias, weights = do_linear_regression(x_train, y_train)"
   ]
  },
  {
   "cell_type": "code",
   "execution_count": 77,
   "metadata": {},
   "outputs": [
    {
     "data": {
      "text/plain": [
       "array([14.32096051, 12.12013596, 18.69128589, 17.6726879 , 15.53304999,\n",
       "       18.73440125, 14.67773086, 21.26090763,  8.71030139, 24.33756135,\n",
       "       22.20013322, 23.39944066,  9.711933  , 19.35235834, 19.36206092,\n",
       "       27.48853344, 12.61549078, 35.76648697, 22.62779278, 18.50023317,\n",
       "       20.54207769, 25.69055957, 23.22105548, 15.66204638])"
      ]
     },
     "execution_count": 77,
     "metadata": {},
     "output_type": "execute_result"
    }
   ],
   "source": [
    "predict(x_test, weights, bias)"
   ]
  },
  {
   "cell_type": "code",
   "execution_count": 78,
   "metadata": {},
   "outputs": [
    {
     "data": {
      "text/plain": [
       "array([13.4, 10.3, 19.7, 10. , 14.1, 31.9, 11.4, 18.4,  7.4, 16.3, 17.7,\n",
       "       26.3,  9.8, 20.2, 15.8, 19.3, 10. , 47.9, 19.1, 17.5, 19.8, 28. ,\n",
       "       24.4, 11.1])"
      ]
     },
     "execution_count": 78,
     "metadata": {},
     "output_type": "execute_result"
    }
   ],
   "source": [
    "y_test"
   ]
  },
  {
   "cell_type": "code",
   "execution_count": 79,
   "metadata": {},
   "outputs": [
    {
     "data": {
      "text/plain": [
       "array([-6.96198001, -5.35155521, 25.01259545])"
      ]
     },
     "execution_count": 79,
     "metadata": {},
     "output_type": "execute_result"
    }
   ],
   "source": [
    "weights"
   ]
  },
  {
   "cell_type": "code",
   "execution_count": 80,
   "metadata": {},
   "outputs": [
    {
     "data": {
      "text/plain": [
       "13.80585084718744"
      ]
     },
     "execution_count": 80,
     "metadata": {},
     "output_type": "execute_result"
    }
   ],
   "source": [
    "bias"
   ]
  },
  {
   "cell_type": "code",
   "execution_count": 81,
   "metadata": {},
   "outputs": [
    {
     "name": "stdout",
     "output_type": "stream",
     "text": [
      "Коэффициент 0: 10.0914, t-статистика = 3.4046, p-value = 0.0011\n",
      "Коэффициент 1: -1.9374, t-статистика = -0.1328, p-value = 0.8948\n",
      "Коэффициент 2: -4.2660, t-статистика = -0.2974, p-value = 0.7671\n",
      "Коэффициент 3: 31.4913, t-статистика = 6.8164, p-value = 0.0000\n",
      "Коэффициент 0 значим (p < 0.05)\n",
      "Коэффициент 1 не значим (p >= 0.05)\n",
      "Коэффициент 2 не значим (p >= 0.05)\n",
      "Коэффициент 3 значим (p < 0.05)\n"
     ]
    }
   ],
   "source": [
    "X_train = np.column_stack((np.ones(x_train.shape[0]), x_train))\n",
    "X_test = np.column_stack((np.ones(x_test.shape[0]), x_test))\n",
    "\n",
    "coefficients = np.linalg.inv(X_train.T @ X_train) @ X_train.T @ y_train\n",
    "\n",
    "y_pred_train = X_train @ coefficients\n",
    "\n",
    "residuals = y_train - y_pred_train\n",
    "\n",
    "n = len(y_train)\n",
    "p = X_train.shape[1]\n",
    "\n",
    "residual_variance = np.sum(residuals**2) / (n - p)\n",
    "\n",
    "X_transpose_X_inv = np.linalg.inv(X_train.T @ X_train)\n",
    "coeff_variance = residual_variance * X_transpose_X_inv\n",
    "\n",
    "standard_errors = np.sqrt(np.diag(coeff_variance))\n",
    "\n",
    "t_statistics = coefficients / standard_errors\n",
    "\n",
    "p_values = [2 * (1 - stats.t.cdf(np.abs(t), n - p)) for t in t_statistics]\n",
    "\n",
    "for i, (coef, t_stat, p_val) in enumerate(zip(coefficients, t_statistics, p_values)):\n",
    "    print(f\"Коэффициент {i}: {coef:.4f}, t-статистика = {t_stat:.4f}, p-value = {p_val:.4f}\")\n",
    "\n",
    "alpha = 0.05\n",
    "significant = [p < alpha for p in p_values]\n",
    "\n",
    "for i, sig in enumerate(significant):\n",
    "    if sig:\n",
    "        print(f\"Коэффициент {i} значим (p < {alpha})\")\n",
    "    else:\n",
    "        print(f\"Коэффициент {i} не значим (p >= {alpha})\")\n"
   ]
  }
 ],
 "metadata": {
  "kernelspec": {
   "display_name": "Python 3",
   "language": "python",
   "name": "python3"
  },
  "language_info": {
   "codemirror_mode": {
    "name": "ipython",
    "version": 3
   },
   "file_extension": ".py",
   "mimetype": "text/x-python",
   "name": "python",
   "nbconvert_exporter": "python",
   "pygments_lexer": "ipython3",
   "version": "3.10.14"
  }
 },
 "nbformat": 4,
 "nbformat_minor": 2
}
